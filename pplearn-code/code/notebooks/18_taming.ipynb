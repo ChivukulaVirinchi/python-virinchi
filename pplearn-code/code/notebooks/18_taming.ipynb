{
 "cells": [
  {
   "cell_type": "markdown",
   "metadata": {},
   "source": [
    "# Chapter 18: Taming Deep Networks"
   ]
  },
  {
   "cell_type": "markdown",
   "metadata": {},
   "source": [
    "## Hands On: The 10 Epochs Challenge"
   ]
  },
  {
   "cell_type": "code",
   "execution_count": 1,
   "metadata": {},
   "outputs": [],
   "source": [
    "%matplotlib inline"
   ]
  },
  {
   "cell_type": "code",
   "execution_count": 2,
   "metadata": {},
   "outputs": [],
   "source": [
    "# Plot the training loss and validation loss from a Keras history object.\n",
    "\n",
    "import matplotlib.pyplot as plt\n",
    "from matplotlib.colors import ListedColormap\n",
    "import seaborn as sns\n",
    "\n",
    "\n",
    "def show_losses(history):\n",
    "    sns.set()  # Switch to the Seaborn look\n",
    "    plt.plot(history.history['loss'], label='Training set',\n",
    "             color='blue', linestyle='-')\n",
    "    plt.plot(history.history['val_loss'], label='Validation set',\n",
    "             color='green', linestyle='--')\n",
    "    plt.xlabel(\"Epochs\")\n",
    "    plt.ylabel(\"Loss\")\n",
    "    plt.xlim(0, len(history.history['loss']))\n",
    "    plt.show()"
   ]
  },
  {
   "cell_type": "code",
   "execution_count": 3,
   "metadata": {},
   "outputs": [
    {
     "name": "stderr",
     "output_type": "stream",
     "text": [
      "Using TensorFlow backend.\n"
     ]
    }
   ],
   "source": [
    "import numpy as np\n",
    "from keras.models import Sequential\n",
    "from keras.layers import Dense\n",
    "from keras.optimizers import SGD\n",
    "from keras.utils import to_categorical\n",
    "from keras.datasets import mnist"
   ]
  },
  {
   "cell_type": "code",
   "execution_count": 4,
   "metadata": {},
   "outputs": [],
   "source": [
    "(X_train_raw, Y_train_raw), (X_test_raw, Y_test_raw) = mnist.load_data()\n",
    "X_train = X_train_raw.reshape(X_train_raw.shape[0], -1) / 255\n",
    "X_test_all = X_test_raw.reshape(X_test_raw.shape[0], -1) / 255\n",
    "X_validation, X_test = np.split(X_test_all, 2)\n",
    "Y_train = to_categorical(Y_train_raw)\n",
    "Y_validation, Y_test = np.split(to_categorical(Y_test_raw), 2)"
   ]
  },
  {
   "cell_type": "code",
   "execution_count": 5,
   "metadata": {},
   "outputs": [],
   "source": [
    "model = Sequential()\n",
    "model.add(Dense(1200, activation='sigmoid'))\n",
    "model.add(Dense(500, activation='sigmoid'))\n",
    "model.add(Dense(200, activation='sigmoid'))\n",
    "model.add(Dense(10, activation='softmax'))"
   ]
  },
  {
   "cell_type": "code",
   "execution_count": 6,
   "metadata": {},
   "outputs": [
    {
     "name": "stdout",
     "output_type": "stream",
     "text": []
    }
   ],
   "source": [
    "model.compile(loss='categorical_crossentropy',\n",
    "              optimizer=SGD(lr=0.1),\n",
    "              metrics=['accuracy'])"
   ]
  },
  {
   "cell_type": "code",
   "execution_count": 7,
   "metadata": {
    "scrolled": true
   },
   "outputs": [
    {
     "name": "stdout",
     "output_type": "stream",
     "text": [
      "Train on 60000 samples, validate on 5000 samples\n",
      "Epoch 1/10\n",
      "60000/60000 [==============================] - 15s 258us/step - loss: 1.3117 - acc: 0.5394 - val_loss: 0.6256 - val_acc: 0.7984\n",
      "Epoch 2/10\n",
      "60000/60000 [==============================] - 14s 238us/step - loss: 0.4375 - acc: 0.8671 - val_loss: 0.4665 - val_acc: 0.8600\n",
      "Epoch 3/10\n",
      "60000/60000 [==============================] - 15s 242us/step - loss: 0.3560 - acc: 0.8944 - val_loss: 0.3680 - val_acc: 0.8878\n",
      "Epoch 4/10\n",
      "60000/60000 [==============================] - 15s 249us/step - loss: 0.3125 - acc: 0.9074 - val_loss: 0.3599 - val_acc: 0.8920\n",
      "Epoch 5/10\n",
      "60000/60000 [==============================] - 16s 262us/step - loss: 0.2820 - acc: 0.9153 - val_loss: 0.3098 - val_acc: 0.9042\n",
      "Epoch 6/10\n",
      "60000/60000 [==============================] - 15s 257us/step - loss: 0.2584 - acc: 0.9223 - val_loss: 0.3005 - val_acc: 0.9076\n",
      "Epoch 7/10\n",
      "60000/60000 [==============================] - 15s 248us/step - loss: 0.2422 - acc: 0.9261 - val_loss: 0.2983 - val_acc: 0.9058\n",
      "Epoch 8/10\n",
      "60000/60000 [==============================] - 16s 260us/step - loss: 0.2276 - acc: 0.9302 - val_loss: 0.3084 - val_acc: 0.9008\n",
      "Epoch 9/10\n",
      "60000/60000 [==============================] - 15s 256us/step - loss: 0.2152 - acc: 0.9343 - val_loss: 0.2723 - val_acc: 0.9138\n",
      "Epoch 10/10\n",
      "60000/60000 [==============================] - 16s 260us/step - loss: 0.2026 - acc: 0.9388 - val_loss: 0.2487 - val_acc: 0.9228\n"
     ]
    }
   ],
   "source": [
    "history = model.fit(X_train, Y_train,\n",
    "                    validation_data=(X_validation, Y_validation),\n",
    "                    epochs=10, batch_size=32)"
   ]
  },
  {
   "cell_type": "code",
   "execution_count": 8,
   "metadata": {
    "scrolled": true
   },
   "outputs": [
    {
     "data": {
      "image/png": "[encoded data removed]",
      "text/plain": [
       "<Figure size 432x288 with 1 Axes>"
      ]
     },
     "metadata": {},
     "output_type": "display_data"
    }
   ],
   "source": [
    "show_losses(history)"
   ]
  },
  {
   "cell_type": "markdown",
   "metadata": {},
   "source": [
    "Now It's Your Turn!"
   ]
  },
  {
   "cell_type": "code",
   "execution_count": 13,
   "metadata": {},
   "outputs": [],
   "source": [
    "# Write your code here..."
   ]
  }
 ],
 "metadata": {
  "kernelspec": {
   "display_name": "Python 3",
   "language": "python",
   "name": "python3"
  },
  "language_info": {
   "codemirror_mode": {
    "name": "ipython",
    "version": 3
   },
   "file_extension": ".py",
   "mimetype": "text/x-python",
   "name": "python",
   "nbconvert_exporter": "python",
   "pygments_lexer": "ipython3",
   "version": "3.7.3"
  }
 },
 "nbformat": 4,
 "nbformat_minor": 2
}
